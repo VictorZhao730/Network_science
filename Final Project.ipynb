{
 "cells": [
  {
   "cell_type": "code",
   "execution_count": null,
   "metadata": {},
   "outputs": [],
   "source": [
    "import random\n",
    "import os\n",
    "import networkx as nx\n",
    "from tqdm import tqdm\n",
    "import csv"
   ]
  },
  {
   "cell_type": "code",
   "execution_count": 18,
   "metadata": {},
   "outputs": [],
   "source": [
    "def extract_subgraph_by_node_id(graph, target_node_id):\n",
    "    \"\"\"\n",
    "    Extract a subgraph containing the target node and its neighbors.\n",
    "\n",
    "    Parameters:\n",
    "        graph (nx.Graph): The original graph.\n",
    "        target_node_id (str): The ID of the target node.\n",
    "\n",
    "    Returns:\n",
    "        subgraph (nx.Graph): A subgraph containing the target node and its neighbors.\n",
    "    \"\"\"\n",
    "    if target_node_id not in graph.nodes:\n",
    "        raise ValueError(f\"Node with id '{target_node_id}' not found in the graph.\")\n",
    "    \n",
    "    # Extract neighbors and the target node\n",
    "    subgraph = graph.subgraph([target_node_id] + list(graph.neighbors(target_node_id))).copy()\n",
    "    return subgraph"
   ]
  },
  {
   "cell_type": "code",
   "execution_count": 29,
   "metadata": {},
   "outputs": [],
   "source": [
    "def compute_clustering_for_file(file_path, target_node_id):\n",
    "    \"\"\"\n",
    "    Perform RWFB sampling on a graph from a single file and compute the average clustering coefficient.\n",
    "    \n",
    "    Parameters:\n",
    "        file_path (str): Path to the GraphML file.\n",
    "        flyback_probability (float): Probability of jumping back to the starting node.\n",
    "        \n",
    "    Returns:\n",
    "        result (tuple): A tuple containing the file name and its average clustering coefficient after sampling.\n",
    "    \"\"\"\n",
    "    try:\n",
    "        # Read the GraphML file\n",
    "        G = nx.read_graphml(file_path)\n",
    "\n",
    "        # Perform RWFB sampling\n",
    "        # sampled_graph = rwfb_sampling(G, flyback_probability)\n",
    "\n",
    "        # Compute the average clustering coefficient\n",
    "        avg_clustering = nx.average_clustering(G)\n",
    "        if target_node_id not in G.nodes:\n",
    "            raise ValueError(f\"Node with ID '{target_node_id}' not found in the graph.\")\n",
    "    \n",
    "        # Get the target node and its neighbors\n",
    "        target_nodes = target_node_id\n",
    "\n",
    "        # Compute clustering coefficients for all nodes in the graph\n",
    "        all_clustering = nx.clustering(G)\n",
    "\n",
    "        # Extract clustering coefficients for the target node and its neighbors\n",
    "        clustering_results = all_clustering[target_nodes]\n",
    "        \n",
    "        # Print clustering results\n",
    "        print(os.path.basename(file_path), avg_clustering, clustering_results)\n",
    "        return (os.path.basename(file_path), avg_clustering, clustering_results)\n",
    "    except Exception as e:\n",
    "        print(f\"Error processing file {file_path}: {e}\")\n",
    "        return (os.path.basename(file_path), None, None)"
   ]
  },
  {
   "cell_type": "code",
   "execution_count": 58,
   "metadata": {},
   "outputs": [],
   "source": [
    "import os\n",
    "import networkx as nx\n",
    "\n",
    "def extract_node_and_lcc(file_path, target_node_id, output_dir):\n",
    "    \"\"\"\n",
    "    Extract a specific node and its largest connected component (LCC) in a graph,\n",
    "    and save the LCC as a new network file.\n",
    "\n",
    "    Parameters:\n",
    "        file_path (str): Path to the input GraphML file.\n",
    "        target_node_id (str): The ID of the target node.\n",
    "        output_dir (str): Directory to save the resulting LCC network file.\n",
    "\n",
    "    Returns:\n",
    "        lcc_subgraph (nx.Graph): The subgraph of the largest connected component containing the target node.\n",
    "    \"\"\"\n",
    "    # Load the graph from the GraphML file\n",
    "    graph = nx.read_graphml(file_path)\n",
    "    \n",
    "    # Check if the target node exists in the graph\n",
    "    if target_node_id not in graph.nodes:\n",
    "        raise ValueError(f\"Node with ID '{target_node_id}' not found in the graph.\")\n",
    "\n",
    "    components = list(nx.strongly_connected_components(graph))\n",
    "\n",
    "    # Find the component containing the target node\n",
    "    for component in components:\n",
    "        if target_node_id in component:\n",
    "            target_component = component\n",
    "            break\n",
    "    else:\n",
    "        raise ValueError(f\"Node '{target_node_id}' is not in any connected component.\")\n",
    "\n",
    "    # Extract the subgraph for the largest connected component\n",
    "    lcc_subgraph = graph.subgraph(target_component).copy()\n",
    "\n",
    "    # Ensure the output directory exists\n",
    "    os.makedirs(output_dir, exist_ok=True)\n",
    "\n",
    "    # Save the subgraph as a new GraphML file\n",
    "    output_file = os.path.join(output_dir, f\"lcc_{os.path.basename(file_path)}\")\n",
    "    nx.write_graphml(lcc_subgraph, output_file)\n",
    "    print(f\"LCC saved to {output_file}\")\n",
    "\n",
    "    return lcc_subgraph\n"
   ]
  },
  {
   "cell_type": "code",
   "execution_count": null,
   "metadata": {},
   "outputs": [],
   "source": [
    "directory = \"daily_networks_graphml/daily_networks_graphml/\"\n",
    "output_csv = \"clustering_results.csv\"\n",
    "\n",
    "graphml_files = [f for f in os.listdir(directory) if f.endswith('.graphml')]  # Filter .graphml files\n",
    "\n",
    "with open(output_csv, mode=\"w\", newline=\"\") as csvfile:\n",
    "    writer = csv.writer(csvfile)\n",
    "    writer.writerow([\"File Name\", \"Average Clustering Coefficient\", \"Garantex Node Clustering Coefficients\"])\n",
    "\n",
    "    # Process each file\n",
    "    for file in tqdm(graphml_files, desc=\"Processing GraphML files\"):\n",
    "        file_path = os.path.join(directory, file)\n",
    "        \n",
    "        # Compute average clustering coefficient for the file\n",
    "        avg_result = compute_clustering_for_file(file_path, \"Garantex\")\n",
    "        writer.writerow([avg_result[0], avg_result[1], avg_result[2]])\n",
    "\n",
    "print(f\"Results saved to {output_csv}\")"
   ]
  },
  {
   "cell_type": "code",
   "execution_count": null,
   "metadata": {},
   "outputs": [],
   "source": [
    "directory = \"daily_networks_graphml/daily_networks_graphml/\"\n",
    "output_csv = \"clustering_results.csv\"\n",
    "output_dir = \"slcc\"\n",
    "\n",
    "graphml_files = [f for f in os.listdir(directory) if f.endswith('.graphml')]  # Filter .graphml files\n",
    "\n",
    "# Process each file\n",
    "for file in tqdm(graphml_files, desc=\"Processing GraphML files\"):\n",
    "    file_path = os.path.join(directory, file)\n",
    "    \n",
    "    # Compute average clustering coefficient for the file\n",
    "    lcc = extract_node_and_lcc(file_path, \"Garantex\", output_dir)"
   ]
  },
  {
   "cell_type": "code",
   "execution_count": 79,
   "metadata": {},
   "outputs": [],
   "source": [
    "# Define function to randomize the network\n",
    "def randomize_network(G):\n",
    "    randomized_G = G.copy()\n",
    "    nx.double_edge_swap(randomized_G, nswap=2*randomized_G.number_of_edges(), max_tries=100*randomized_G.number_of_edges())\n",
    "    return randomized_G"
   ]
  },
  {
   "cell_type": "code",
   "execution_count": 85,
   "metadata": {},
   "outputs": [],
   "source": [
    "import numpy as np\n",
    "import networkx as nx\n",
    "\n",
    "def analyze_small_world(graph, num_random_graphs=5):\n",
    "    \"\"\"\n",
    "    Determine whether a network is a small-world network.\n",
    "\n",
    "    Parameters:\n",
    "        graph (nx.Graph): The input graph.\n",
    "        num_random_graphs (int): Number of random graphs to generate for average random properties.\n",
    "\n",
    "    Returns:\n",
    "        results (dict): Contains properties of the original and random networks, and whether it is small-world.\n",
    "    \"\"\"\n",
    "    try:\n",
    "        # Ensure the graph is connected\n",
    "        if nx.is_directed(graph):\n",
    "            graph = graph.to_undirected()\n",
    "        if not nx.is_connected(graph):\n",
    "            print(1)\n",
    "            graph = graph.subgraph(max(nx.connected_components(graph), key=len)).copy()\n",
    "\n",
    "        # Compute original graph properties\n",
    "        avg_clustering = nx.average_clustering(graph)\n",
    "        avg_shortest_path = nx.average_shortest_path_length(graph)\n",
    "\n",
    "        # Initialize properties of random networks\n",
    "        random_clustering = []\n",
    "        random_shortest_path = []\n",
    "\n",
    "        # Generate random networks and compute their properties\n",
    "        for _ in range(num_random_graphs):\n",
    "            random_graph = randomize_network(graph)\n",
    "            if not nx.is_connected(random_graph):\n",
    "                print(2)\n",
    "            random_clustering.append(nx.average_clustering(random_graph))\n",
    "            random_shortest_path.append(nx.average_shortest_path_length(random_graph))\n",
    "\n",
    "        # Calculate average properties of random networks\n",
    "        avg_random_clustering = np.mean(random_clustering)\n",
    "        avg_random_shortest_path = np.mean(random_shortest_path)\n",
    "\n",
    "        # Compare properties of the original and random networks\n",
    "        lambda_ratio = avg_shortest_path / avg_random_shortest_path\n",
    "        gamma_ratio = avg_clustering / avg_random_clustering\n",
    "\n",
    "        # Determine if it is a small-world network\n",
    "        is_small_world = lambda_ratio < 1.1 and gamma_ratio > 1.5\n",
    "\n",
    "        # Return results\n",
    "        results = {\n",
    "            \"Original Clustering Coefficient\": avg_clustering,\n",
    "            \"Original Average Shortest Path\": avg_shortest_path,\n",
    "            \"Random Clustering Coefficient\": avg_random_clustering,\n",
    "            \"Random Average Shortest Path\": avg_random_shortest_path,\n",
    "            \"Lambda (L/L_rand)\": lambda_ratio,\n",
    "            \"Gamma (C/C_rand)\": gamma_ratio,\n",
    "            \"Is Small World\": is_small_world\n",
    "        }\n",
    "\n",
    "        return results\n",
    "\n",
    "    except Exception as e:\n",
    "        print(f\"Error analyzing small-world properties: {e}\")\n",
    "        return {\n",
    "            \"Original Clustering Coefficient\": None,\n",
    "            \"Original Average Shortest Path\": None,\n",
    "            \"Random Clustering Coefficient\": None,\n",
    "            \"Random Average Shortest Path\": None,\n",
    "            \"Lambda (L/L_rand)\": None,\n",
    "            \"Gamma (C/C_rand)\": None,\n",
    "            \"Is Small World\": False\n",
    "        }\n"
   ]
  },
  {
   "cell_type": "code",
   "execution_count": null,
   "metadata": {},
   "outputs": [],
   "source": [
    "import os\n",
    "import networkx as nx\n",
    "from tqdm import tqdm\n",
    "\n",
    "# Directory containing GraphML files\n",
    "directory = \"slcc\"\n",
    "output_dir = \"small_world_results\"  # Directory to save individual CSV files\n",
    "\n",
    "# Ensure output directory exists\n",
    "os.makedirs(output_dir, exist_ok=True)\n",
    "\n",
    "# Process GraphML files\n",
    "graphml_files = [f for f in os.listdir(directory) if f.endswith('.graphml')]\n",
    "\n",
    "for file in tqdm(graphml_files, desc=\"Processing GraphML files\"):\n",
    "    file_path = os.path.join(directory, file)\n",
    "    try:\n",
    "        # Read the GraphML file\n",
    "        graph = nx.read_graphml(file_path)\n",
    "\n",
    "        # Analyze small-world properties\n",
    "        results = analyze_small_world(graph)\n",
    "\n",
    "        # Generate output file name\n",
    "        output_file = os.path.join(output_dir, f\"{os.path.splitext(file)[0]}_small_world.csv\")\n",
    "\n",
    "        # Save results to an individual CSV file\n",
    "        with open(output_file, \"w\") as f:\n",
    "            f.write(\"Original Clustering Coefficient,Original Average Shortest Path,Random Clustering Coefficient,Random Average Shortest Path,Lambda (L/L_rand),Gamma (C/C_rand),Is Small World\\n\")\n",
    "            f.write(f\"{results['Original Clustering Coefficient']},{results['Original Average Shortest Path']},\"\n",
    "                    f\"{results['Random Clustering Coefficient']},{results['Random Average Shortest Path']},\"\n",
    "                    f\"{results['Lambda (L/L_rand)']},{results['Gamma (C/C_rand)']},{results['Is Small World']}\\n\")\n",
    "\n",
    "    except Exception as e:\n",
    "        print(f\"Error processing file {file}: {e}\")\n"
   ]
  },
  {
   "cell_type": "code",
   "execution_count": null,
   "metadata": {},
   "outputs": [],
   "source": [
    "# Directory containing GraphML files\n",
    "directory = \"daily_networks_graphml/daily_networks_graphml/\"\n",
    "output_dir = \"small_world_results\"  # Directory to save individual CSV files\n",
    "\n",
    "# Ensure output directory exists\n",
    "os.makedirs(output_dir, exist_ok=True)\n",
    "\n",
    "# Process GraphML files\n",
    "graphml_files = [f for f in os.listdir(directory) if f.endswith('.graphml')]\n",
    "\n",
    "out_degree = []\n",
    "in_degree = []\n",
    "\n",
    "for file in tqdm(graphml_files, desc=\"Processing GraphML files\"):\n",
    "    file_path = os.path.join(directory, file)\n",
    "    # Read the GraphML file\n",
    "    graph = nx.read_graphml(file_path)\n",
    "    print(graph.out_degree(\"Garantex\"))\n",
    "    print(graph.in_degree(\"Garantex\"))\n",
    "    out_degree.append(graph.out_degree(\"Garantex\"))\n",
    "    in_degree.append(graph.in_degree(\"Garantex\"))"
   ]
  },
  {
   "cell_type": "code",
   "execution_count": 94,
   "metadata": {},
   "outputs": [
    {
     "data": {
      "image/png": "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",
      "text/plain": [
       "<Figure size 1000x600 with 1 Axes>"
      ]
     },
     "metadata": {},
     "output_type": "display_data"
    }
   ],
   "source": [
    "import matplotlib.pyplot as plt\n",
    "\n",
    "plt.figure(figsize=(10, 6))\n",
    "\n",
    "
    "plt.plot(range(1,62), out_degree, label=\"Out-Degree\", marker='o', linestyle='-', linewidth=2)\n",
    "\n",
    "
    "plt.plot(range(1,62), in_degree, label=\"In-Degree\", marker='s', linestyle='--', linewidth=2)\n",
    "\n",
    "# 图表设置\n",
    "plt.xlabel(\"Time\")\n",
    "plt.ylabel(\"Degree\")\n",
    "plt.title(\"Out-Degree and In-Degree of Nodes\")\n",
    "plt.legend()\n",
    "plt.grid(True)\n",
    "plt.show()"
   ]
  },
  {
   "cell_type": "code",
   "execution_count": null,
   "metadata": {},
   "outputs": [],
   "source": [
    "directory = \"graphml_networks\"\n",
    "target_node = \"Garantex\"  
    "\n",
    "connected_addresses = list()\n",
    "\n",
    "
    "graphml_files = [f for f in os.listdir(directory) if f.endswith('.graphml')]\n",
    "\n",
    "
    "for file in tqdm(graphml_files, desc=\"Processing GraphML files\"):\n",
    "    file_path = os.path.join(directory, file)\n",
    "    print(file)\n",
    "    
    "    graph = nx.read_graphml(file_path)\n",
    "    \n",
    "    
    "    for edge in graph.out_edges(target_node):\n",
    "        target_node_address = edge[1]  
    "        connected_addresses.append(target_node_address)\n",
    "        print(target_node_address)\n",
    "\n",
    "
    "print(f\"Total unique directly connected addresses: {len(connected_addresses)}\")\n",
    "print(\"Directly connected addresses:\")\n",
    "print(connected_addresses)"
   ]
  },
  {
   "cell_type": "code",
   "execution_count": 107,
   "metadata": {},
   "outputs": [],
   "source": [
    "import pandas as pd\n",
    "import networkx as nx\n",
    "from tqdm import tqdm\n",
    "import os\n",
    "\n",
    "
    "file_path = \"combined_transactions_with_full_network/combined_transactions_with_full_network.csv\"  # 替换为实际文件路径\n",
    "output_dir = \"graphml_networks\"  
    "\n",
    "# 确保输出目录存在\n",
    "os.makedirs(output_dir, exist_ok=True)\n",
    "\n",
    "# 读取数据\n",
    "data = pd.read_csv(file_path)"
   ]
  },
  {
   "cell_type": "code",
   "execution_count": 108,
   "metadata": {},
   "outputs": [
    {
     "name": "stderr",
     "output_type": "stream",
     "text": [
      "Processing networks: 100%|██████████| 61/61 [41:51<00:00, 41.17s/it]"
     ]
    },
    {
     "name": "stdout",
     "output_type": "stream",
     "text": [
      "All networks saved to 'graphml_networks'.\n"
     ]
    },
    {
     "name": "stderr",
     "output_type": "stream",
     "text": [
      "\n"
     ]
    }
   ],
   "source": [
    "# 
    "data['OutputBTC'] = pd.to_numeric(data['OutputBTC'], errors='coerce')\n",
    "\n",
    "# 
    "grouped_data = data.groupby('Date')\n",
    "\n",
    "# 
    "for date, group in tqdm(grouped_data, desc=\"Processing networks\"):\n",
    "    
    "    G = nx.DiGraph()\n",
    "\n",
    "    
    "    for _, row in group.iterrows():\n",
    "        G.add_edge(row['InputAddress'], row['OutputAddress'], weight=row['OutputBTC'])\n",
    "\n",
    "    
    "    graphml_file = os.path.join(output_dir, f\"network_{date}.graphml\")\n",
    "    \n",
    "    
    "    nx.write_graphml(G, graphml_file)\n",
    "\n",
    "print(f\"All networks saved to '{output_dir}'.\")\n"
   ]
  },
  {
   "cell_type": "code",
   "execution_count": null,
   "metadata": {},
   "outputs": [],
   "source": []
  }
 ],
 "metadata": {
  "kernelspec": {
   "display_name": "base",
   "language": "python",
   "name": "python3"
  },
  "language_info": {
   "codemirror_mode": {
    "name": "ipython",
    "version": 3
   },
   "file_extension": ".py",
   "mimetype": "text/x-python",
   "name": "python",
   "nbconvert_exporter": "python",
   "pygments_lexer": "ipython3",
   "version": "3.11.7"
  }
 },
 "nbformat": 4,
 "nbformat_minor": 2
}
